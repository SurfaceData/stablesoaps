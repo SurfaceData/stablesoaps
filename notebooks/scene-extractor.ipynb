{
 "cells": [
  {
   "cell_type": "markdown",
   "id": "51b8492c-0c11-4bf0-b435-f086ff355214",
   "metadata": {},
   "source": [
    "# Basic Setup"
   ]
  },
  {
   "cell_type": "code",
   "execution_count": 77,
   "id": "88155fcd-5e23-4e04-9c63-ab52fe8419b6",
   "metadata": {},
   "outputs": [
    {
     "name": "stdout",
     "output_type": "stream",
     "text": [
      "\u001b[31mERROR: pip's dependency resolver does not currently take into account all the packages that are installed. This behaviour is the source of the following dependency conflicts.\n",
      "ipython 8.27.0 requires prompt-toolkit<3.1.0,>=3.0.41, but you have prompt-toolkit 3.0.36 which is incompatible.\u001b[0m\u001b[31m\n",
      "\u001b[0mNote: you may need to restart the kernel to use updated packages.\n"
     ]
    }
   ],
   "source": [
    "pip install -q bentoml"
   ]
  },
  {
   "cell_type": "code",
   "execution_count": 107,
   "id": "18552716-f27c-4fc6-9e9e-46746a0307d4",
   "metadata": {},
   "outputs": [],
   "source": [
    "import bentoml\n",
    "import json\n",
    "import os\n",
    "import requests\n",
    "import shutil\n",
    "\n",
    "from dotenv import load_dotenv\n",
    "from jinja2 import Template\n",
    "from litellm import completion\n",
    "from pydantic import BaseModel\n",
    "from pydantic.json import pydantic_encoder\n",
    "from typing import List\n",
    "from IPython.display import Image\n",
    "from pathlib import Path\n",
    "from uuid import uuid4"
   ]
  },
  {
   "cell_type": "code",
   "execution_count": 113,
   "id": "4a398bad-7040-456f-b9ec-63a4ce3b4195",
   "metadata": {},
   "outputs": [
    {
     "data": {
      "text/plain": [
       "True"
      ]
     },
     "execution_count": 113,
     "metadata": {},
     "output_type": "execute_result"
    }
   ],
   "source": [
    "load_dotenv()"
   ]
  },
  {
   "cell_type": "markdown",
   "id": "a4ad015c-974e-46ab-be7a-c6f30277aeed",
   "metadata": {},
   "source": [
    "# Download the document"
   ]
  },
  {
   "cell_type": "code",
   "execution_count": 30,
   "id": "b0cd603b-b0d2-4030-a3fb-8b0760d3594b",
   "metadata": {},
   "outputs": [
    {
     "data": {
      "text/plain": [
       "'第一回     靈根育孕源流出\\u3000心性修持大道生\\r\\n\\r\\n\\r\\n\\u3000\\u3000詩曰：\\r\\n\\u3000\\u3000\\u3000\\u3000混沌未分天地亂，茫茫渺渺無人見。\\r\\n\\u3000\\u3000\\u3000\\u3000自從盤古破鴻濛，開闢從茲清濁辨。\\r\\n\\u3000\\u3000\\u3000\\u3000覆載群生仰至仁，發明萬物皆成善。'"
      ]
     },
     "execution_count": 30,
     "metadata": {},
     "output_type": "execute_result"
    }
   ],
   "source": [
    "# Download the raw text and strip out all the gutenberg start stuff\n",
    "doc_response = requests.get(\n",
    "    \"https://www.gutenberg.org/cache/epub/23962/pg23962.txt\",\n",
    ")\n",
    "doc = doc_response.text\n",
    "strip_index = doc.find(\"第一回\")\n",
    "doc = doc[strip_index:].strip()\n",
    "doc[:100]"
   ]
  },
  {
   "cell_type": "code",
   "execution_count": 32,
   "id": "022578bc-ff3b-455c-93ab-d77df6d63b94",
   "metadata": {},
   "outputs": [
    {
     "data": {
      "text/plain": [
       "['第一回     靈根育孕源流出\\u3000心性修持大道生',\n",
       " '\\u3000\\u3000詩曰：\\u3000\\u3000\\u3000\\u3000混沌未分天地亂，茫茫渺渺無人見。\\u3000\\u3000\\u3000\\u3000自從盤古破鴻濛，開闢從茲清濁辨。\\u3000\\u3000\\u3000\\u3000覆載群生仰至仁，發明萬物皆成善。\\u3000\\u3000\\u3000\\u3000欲知造化會元功，須看西遊釋厄傳。',\n",
       " '蓋聞天地之數，有十二萬九千六百歲為一元。將一元分為十二會，乃子、丑、寅、卯、辰、巳、午、未、申、酉、戌、亥之十二支也。每會該一萬八百歲。且就一日而論：子時得陽氣，而丑則雞鳴﹔寅不通光，而卯則日出﹔辰時食後，而巳則挨排﹔日午天中，而未則西蹉﹔申時晡，而日落酉，戌黃昏，而人定亥。譬於大數，若到戌會之終，則天地昏曚而萬物否矣。再去五千四百歲，交亥會之初，則當黑暗，而兩間人物俱無矣，故曰混沌。又五千四百歲，亥會將終，貞下起元，近子之會，而復逐漸開明。邵康節曰：：「冬至子之半，天心無改移。一陽初動處，萬物未生時。」到此，天始有根。再五千四百歲，正當子會，輕清上騰，有日，有月，有星，有辰。日、月、星、辰，謂之四象。故曰，天開於子。又經五千四百歲，子會將終，近丑之會，而逐漸堅實。《易》曰：「大哉乾元！至哉坤元！萬物資生，乃順承天。」至此，地始凝結。再五千四百歲，正當丑會，重濁下凝，有水，有火，有山，有石，有土。水、火、山、石、土，謂之五形。故曰，地闢於丑。又經五千四百歲，丑會終而寅會之初，發生萬物。曆曰：「天氣下降，地氣上升﹔天地交合，群物皆生。」至此，天清地爽，陰陽交合。再五千四百歲，子會將終，近丑之會，而逐漸堅實。《易》曰：「大哉乾元！至哉坤元！萬物資生，乃順承天。」至此，地始凝結。再五千四百歲，正當丑會，重濁下凝，有水，有火，有山，有石，有土。水、火、山、石、土，謂之五形。故曰，地闢於丑。又經五千四百歲，丑會終而寅會之初，發生萬物。曆曰：「天氣下降，地氣上升﹔天地交合，群物皆生。」至此，天清地爽，陰陽交合。再五千四百歲，正當寅會，生人，生獸，生禽，正謂天地人，三才定位。故曰，人生於寅。',\n",
       " '感盤古開闢，三皇治世，五帝定倫，世界之間，遂分為四大部洲：曰東勝神洲，曰西牛賀洲，曰南贍部洲，曰北俱蘆洲。這部書單表東勝神洲。海外有一國土，名曰傲來國。國近大海，海中有一座名山，喚為花果山。此山乃十洲之祖脈，三島之來龍，自開清濁而立，鴻濛判後而成。真個好山！有詞賦為證。賦曰：勢鎮汪洋，威寧瑤海。勢鎮汪洋，潮湧銀山魚入穴﹔威寧瑤海，波翻雪浪蜃離淵。水火方隅高積上，東海之處聳崇巔。丹崖怪石，削壁奇峰。丹崖上，彩鳳雙鳴﹔削壁前，麒麟獨臥。峰頭時聽錦雞鳴，石窟每觀龍出入。林中有壽鹿仙狐，樹上有靈禽玄鶴。瑤草奇花不謝，青松翠柏長春。仙桃常結果，修竹每留雲。一條澗壑籐蘿密，四面原堤草色新。正是百川會處擎天柱，萬劫無移大地根。',\n",
       " '那座山正當頂上，有一塊仙石。其石有三丈六尺五寸高，有二丈四尺圍圓。三丈六尺五寸高，按周天三百六十五度﹔二丈四尺圍圓，按政曆二十四氣。上有九竅八孔，按九宮八卦。四面更無樹木遮陰，左右倒有芝蘭相襯。']"
      ]
     },
     "execution_count": 32,
     "metadata": {},
     "output_type": "execute_result"
    }
   ],
   "source": [
    "# Split everything into paragraphs and remove the added\n",
    "# superfluous newlines\n",
    "raw_paragraphs = doc.split(\"\\r\\n\\r\\n\")\n",
    "paragraphs = [p.replace(\"\\r\\n\",\"\") for p in raw_paragraphs]\n",
    "paragraphs[:5]"
   ]
  },
  {
   "cell_type": "markdown",
   "id": "17aa7599-9cfd-4203-bf2d-b47d8b9e9201",
   "metadata": {},
   "source": [
    "# Setup our datatypes"
   ]
  },
  {
   "cell_type": "code",
   "execution_count": 64,
   "id": "b7295427-989c-4804-9d59-8b79c420b465",
   "metadata": {},
   "outputs": [],
   "source": [
    "class StoryScene(BaseModel):\n",
    "    \"\"\"A brief description of a scene in a story.\"\"\"\n",
    "\n",
    "    description: str = \"\"\n",
    "    \"\"\"A two or three line description of a scene in a story.\"\"\"\n",
    "\n",
    "    characters: List[str] = []\n",
    "    \"\"\"The names of characters in the scene, if any.\"\"\"\n",
    "\n",
    "class StoryScenes(BaseModel):\n",
    "    \"\"\"A series of story scenes.\"\"\"\n",
    "\n",
    "    scenes: List[StoryScene]\n",
    "    \"\"\"One or more extracted story scenes.\"\"\"\n",
    "\n",
    "class ScenePrompt(BaseModel):\n",
    "    \"\"\"An image prompt for a story scene.\"\"\"\n",
    "\n",
    "    prompt: str\n",
    "    \"\"\"A prompt to an image generation model for a story scene.\"\"\"\n",
    "\n",
    "    theme: str\n",
    "    \"\"\"A description of the selected theme for the prompt.\"\"\"\n",
    "\n",
    "class ScenePrompts(BaseModel):\n",
    "    \"\"\"A list of Scene Prompts.\"\"\"\n",
    "\n",
    "    prompts: List[ScenePrompt]\n",
    "    \"\"\"One or more Scene Prompts.\"\"\""
   ]
  },
  {
   "cell_type": "markdown",
   "id": "84732df3-a2a5-49cd-b52d-1c12d437a7fa",
   "metadata": {},
   "source": [
    "# Extract some scenes from the first few paragraphs"
   ]
  },
  {
   "cell_type": "code",
   "execution_count": 74,
   "id": "d51aed4f-1452-4ce6-a901-eac29e3001b6",
   "metadata": {},
   "outputs": [],
   "source": [
    "schema = StoryScenes.model_json_schema()\n",
    "tools = [\n",
    "    {\n",
    "        \"type\": \"function\",\n",
    "        \"function\": {\n",
    "            \"name\": StoryScenes.__name__,\n",
    "            \"description\": schema[\"description\"],\n",
    "            \"parameters\": schema,\n",
    "        },\n",
    "    }\n",
    "]"
   ]
  },
  {
   "cell_type": "code",
   "execution_count": 75,
   "id": "9dacfb8f-3a27-4867-8d28-c9e2b45066bc",
   "metadata": {},
   "outputs": [],
   "source": [
    "prompt_template = Template(\"\"\"\n",
    "Extract the major scenes from this series of paragraphs from a story:\n",
    "\n",
    "<paragraphs>\n",
    "{% for p in paragraphs %}\n",
    "{{ p }}\n",
    "{% endfor %}\n",
    "</paragraphs>\n",
    "\"\"\"\n",
    ")"
   ]
  },
  {
   "cell_type": "code",
   "execution_count": 54,
   "id": "da356ae1-d0f8-4239-bd09-2ab67651f2ff",
   "metadata": {},
   "outputs": [],
   "source": [
    "messages = [\n",
    "    {\n",
    "        \"role\": \"user\", \n",
    "        \"content\": prompt_template.render(\n",
    "            paragraphs=paragraphs[:5],\n",
    "        ),\n",
    "    }\n",
    "]\n",
    "response = completion(\n",
    "    model=\"anthropic/claude-3-5-sonnet-20240620\",\n",
    "    messages=messages,\n",
    "    tools=tools,\n",
    "    tool_choice=StoryScenes.__name__,\n",
    ")"
   ]
  },
  {
   "cell_type": "code",
   "execution_count": 63,
   "id": "db6f9d42-c7a9-4f0e-9a7e-99abc7918413",
   "metadata": {},
   "outputs": [
    {
     "name": "stdout",
     "output_type": "stream",
     "text": [
      "[StoryScene(description='The creation of the universe and the concept of time cycles', characters=['盤古 (Pangu)']), StoryScene(description='The formation of the world through different time periods (子, 丑, 寅, etc.)', characters=[]), StoryScene(description='The division of the world into four great continents', characters=['三皇 (Three Sovereigns)', '五帝 (Five Emperors)']), StoryScene(description='Introduction of the Aolai country and the Flower Fruit Mountain', characters=[]), StoryScene(description='Detailed description of the Flower Fruit Mountain and its magical features', characters=[]), StoryScene(description='The peculiar stone atop the Flower Fruit Mountain', characters=[])]\n"
     ]
    }
   ],
   "source": [
    "scenes = []\n",
    "for tool_call in response.choices[0].message.tool_calls:\n",
    "    f = tool_call.function\n",
    "    arguments = f.arguments\n",
    "    extracted_scenes = StoryScenes(**json.loads(arguments))\n",
    "    scenes.extend(extracted_scenes.scenes)\n",
    "print(scenes)"
   ]
  },
  {
   "cell_type": "markdown",
   "id": "6aa97482-1eb6-4b18-ae9e-98230989215d",
   "metadata": {},
   "source": [
    "# Extract Image Prompts for the first scene"
   ]
  },
  {
   "cell_type": "code",
   "execution_count": 65,
   "id": "16690472-a9cf-45a4-9ae2-100a302576bc",
   "metadata": {},
   "outputs": [],
   "source": [
    "scene_prompt_schema = ScenePrompts.model_json_schema()\n",
    "scene_prompt_tools = [\n",
    "    {\n",
    "        \"type\": \"function\",\n",
    "        \"function\": {\n",
    "            \"name\": ScenePrompts.__name__,\n",
    "            \"description\": scene_prompt_schema[\"description\"],\n",
    "            \"parameters\": scene_prompt_schema,\n",
    "        },\n",
    "    }\n",
    "]"
   ]
  },
  {
   "cell_type": "code",
   "execution_count": 67,
   "id": "456cc61b-13a5-414d-a789-7dc066b08b76",
   "metadata": {},
   "outputs": [],
   "source": [
    "scene_prompt_template = Template(\"\"\"\n",
    "Given the specified scene related to the paragraphs below, extract multiple prompts to an image generation model.  \n",
    "For each prompt, pick a creative artistic theme to follow.\n",
    "\n",
    "<scene>\n",
    "{{ scene }}\n",
    "</scene>\n",
    "\n",
    "<paragraphs>\n",
    "{% for p in paragraphs %}\n",
    "{{ p }}\n",
    "{% endfor %}\n",
    "</paragraphs>\n",
    "\"\"\"\n",
    ")"
   ]
  },
  {
   "cell_type": "code",
   "execution_count": 72,
   "id": "a94c1dc2-eab0-4d7a-a5ca-f6f2ac59e1d9",
   "metadata": {},
   "outputs": [],
   "source": [
    "response = completion(\n",
    "    model=\"anthropic/claude-3-5-sonnet-20240620\",\n",
    "    messages=[\n",
    "        {\n",
    "            \"role\": \"user\", \n",
    "            \"content\": scene_prompt_template.render(\n",
    "                paragraphs=paragraphs[:5],\n",
    "                scene=scenes[0],\n",
    "            ),\n",
    "        }\n",
    "    ],\n",
    "    tools=scene_prompt_tools,\n",
    "    tool_choice=ScenePrompts.__name__,\n",
    ")"
   ]
  },
  {
   "cell_type": "code",
   "execution_count": 80,
   "id": "b9b256d4-f1a8-48ff-b9dc-1b782fdbc93f",
   "metadata": {},
   "outputs": [
    {
     "data": {
      "text/plain": [
       "ScenePrompt(prompt='Pangu, a primordial giant, emerging from a cosmic egg, splitting the chaotic darkness into sky and earth, with swirling energies of yin and yang surrounding him', theme='Ancient Chinese mythology meets abstract expressionism')"
      ]
     },
     "execution_count": 80,
     "metadata": {},
     "output_type": "execute_result"
    }
   ],
   "source": [
    "extracted_prompts = []\n",
    "for tool_call in response.choices[0].message.tool_calls:\n",
    "    f = tool_call.function\n",
    "    arguments = f.arguments\n",
    "    ep = ScenePrompts(**json.loads(arguments))\n",
    "    extracted_prompts.extend(ep.prompts)\n",
    "extracted_prompts[0]"
   ]
  },
  {
   "cell_type": "markdown",
   "id": "19b891f3-3d8c-460f-adb8-9eb3c498371c",
   "metadata": {},
   "source": [
    "# Generate the images"
   ]
  },
  {
   "cell_type": "code",
   "execution_count": null,
   "id": "ce9ef374-c7e8-40ed-aad3-4fa29bbc84bf",
   "metadata": {},
   "outputs": [],
   "source": [
    "with bentoml.SyncHTTPClient(os.getenv(\"FLUX_SERVER_URL\")) as client:\n",
    "    result = client.txt2img(\n",
    "        prompt=extracted_prompts[2].prompt,\n",
    "        num_inference_steps=20,\n",
    "    )\n",
    "    image_path = Path(f\"data/result-{str(uuid4())}.png\")\n",
    "    shutil.move(result, image_path)\n",
    "Image(\n",
    "    filename=str(image_path),\n",
    ")"
   ]
  },
  {
   "cell_type": "markdown",
   "id": "6bd20fc6-d55a-428b-aa65-15e6bbfa0bf1",
   "metadata": {},
   "source": [
    "# Backup all the extracted objects"
   ]
  },
  {
   "cell_type": "code",
   "execution_count": 112,
   "id": "837dc026-dcba-415b-9c09-a577799cd2ae",
   "metadata": {},
   "outputs": [],
   "source": [
    "with open('data/extracted_scenes.json', 'w') as f:\n",
    "    f.write(json.dumps(scenes, default=pydantic_encoder, indent=4))\n",
    "with open('data/extracted_prompts.json', 'w') as f:\n",
    "    f.write(json.dumps(extracted_prompts, default=pydantic_encoder, indent=4))"
   ]
  },
  {
   "cell_type": "code",
   "execution_count": null,
   "id": "d64d1e54-ed11-4747-8c4b-714111e60c8e",
   "metadata": {},
   "outputs": [],
   "source": []
  }
 ],
 "metadata": {
  "kernelspec": {
   "display_name": "stablesoaps",
   "language": "python",
   "name": "stablesoaps"
  },
  "language_info": {
   "codemirror_mode": {
    "name": "ipython",
    "version": 3
   },
   "file_extension": ".py",
   "mimetype": "text/x-python",
   "name": "python",
   "nbconvert_exporter": "python",
   "pygments_lexer": "ipython3",
   "version": "3.10.14"
  }
 },
 "nbformat": 4,
 "nbformat_minor": 5
}
